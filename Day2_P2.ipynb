{
  "nbformat": 4,
  "nbformat_minor": 0,
  "metadata": {
    "colab": {
      "provenance": []
    },
    "kernelspec": {
      "name": "python3",
      "display_name": "Python 3"
    },
    "language_info": {
      "name": "python"
    }
  },
  "cells": [
    {
      "cell_type": "code",
      "execution_count": null,
      "metadata": {
        "id": "hTSQOlM7pLCH"
      },
      "outputs": [],
      "source": []
    },
    {
      "cell_type": "markdown",
      "source": [
        "An employee’s total weekly pay equals the hourly wage multiplied by the total number of regular hours plus any overtime pay. Overtime pay equals the totalovertime hours multiplied by 1.5 times the hourly wage. Write a program that takes as inputs the hourly wage, total regular hours, and total overtime hours and displays an employee’s total weekly pay."
      ],
      "metadata": {
        "id": "jBG9LMhepL-w"
      }
    },
    {
      "cell_type": "code",
      "source": [
        "Wage = float(input(\"Enter hourly wage: \"))#determing Wage variable that inputs float value\n",
        "\n",
        "Hour = float(input(\"Enter total number of regular hours: \")) #determing hour variable that inputs float value\n",
        "\n",
        "Hrs = float(input(\"Enter overtime hours: \"))#determing overtime hours variable that inputs float value\n",
        "\n",
        "weeklyPay = (Wage*Hour) + (1.5*Wage*Hrs)#determing a weeklypay variable that calculates the values\n",
        "\n",
        "print (weeklyPay)#determing a print method that prints weeklyPay value"
      ],
      "metadata": {
        "colab": {
          "base_uri": "https://localhost:8080/"
        },
        "id": "rMbsHGcwpNJx",
        "outputId": "dcdd4a64-0fc3-4a60-f553-d86acc76cc05"
      },
      "execution_count": 1,
      "outputs": [
        {
          "output_type": "stream",
          "name": "stdout",
          "text": [
            "Enter hourly wage: 9\n",
            "Enter total number of regular hours: 9\n",
            "Enter overtime hours: 9\n",
            "202.5\n"
          ]
        }
      ]
    }
  ]
}