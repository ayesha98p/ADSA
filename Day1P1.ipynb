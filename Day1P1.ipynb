{
  "nbformat": 4,
  "nbformat_minor": 0,
  "metadata": {
    "colab": {
      "provenance": []
    },
    "kernelspec": {
      "name": "python3",
      "display_name": "Python 3"
    },
    "language_info": {
      "name": "python"
    }
  },
  "cells": [
    {
      "cell_type": "code",
      "execution_count": null,
      "metadata": {
        "id": "MGF-shUGj_GG"
      },
      "outputs": [],
      "source": []
    },
    {
      "cell_type": "markdown",
      "source": [
        "Write a program that takes the radius of a sphere (a floating-point number) as input and outputs the sphere’s diameter, circumference, surface area, and volume."
      ],
      "metadata": {
        "id": "kFGm-XTJkAjg"
      }
    },
    {
      "cell_type": "code",
      "source": [
        "radius = float(input(\"Radius: \"))\n",
        "\n",
        "diameter = 2 * radius\n",
        "surfaceArea = 4 * 3.14 * radius**2\n",
        "volume = (4.0/3) * 3.14 * radius**3\n",
        "circumference = diameter * 3.14\n",
        "\n",
        "print(\"diameter:\",diameter)\n",
        "print(\"surfaceArea:\",surfaceArea)\n",
        "print(\"volume:\",volume)\n",
        "print(\"circumference:\",circumference)"
      ],
      "metadata": {
        "colab": {
          "base_uri": "https://localhost:8080/"
        },
        "id": "h29k35WqkB7X",
        "outputId": "1dec961e-4475-46fa-d486-84a895dcc0ac"
      },
      "execution_count": 1,
      "outputs": [
        {
          "output_type": "stream",
          "name": "stdout",
          "text": [
            "Radius: 9\n",
            "diameter: 18.0\n",
            "surfaceArea: 1017.36\n",
            "volume: 3052.08\n",
            "circumference: 56.52\n"
          ]
        }
      ]
    }
  ]
}