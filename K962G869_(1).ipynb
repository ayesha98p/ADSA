{
  "cells": [
    {
      "cell_type": "markdown",
      "id": "e4bdb88a",
      "metadata": {
        "id": "e4bdb88a"
      },
      "source": [
        "#### Write a program that takes the radius of a sphere (a floating-point number) as input and outputs the sphere’s diameter, circumference, surface area, and volume."
      ]
    },
    {
      "cell_type": "code",
      "execution_count": null,
      "id": "b45e4fd9",
      "metadata": {
        "colab": {
          "base_uri": "https://localhost:8080/"
        },
        "id": "b45e4fd9",
        "outputId": "27695a5b-3193-4e3f-bb0d-d8c7049c289e"
      },
      "outputs": [
        {
          "output_type": "stream",
          "name": "stdout",
          "text": [
            "Radius: 9\n",
            "diameter: 18.0\n",
            "surfaceArea: 1017.36\n",
            "volume: 3052.08\n",
            "circumference: 56.52\n"
          ]
        }
      ],
      "source": [
        "radius = float(input(\"Radius: \"))\n",
        "\n",
        "diameter = 2 * radius\n",
        "surfaceArea = 4 * 3.14 * radius**2\n",
        "volume = (4.0/3) * 3.14 * radius**3\n",
        "circumference = diameter * 3.14\n",
        "\n",
        "print(\"diameter:\",diameter)\n",
        "print(\"surfaceArea:\",surfaceArea)\n",
        "print(\"volume:\",volume)\n",
        "print(\"circumference:\",circumference)\n"
      ]
    },
    {
      "cell_type": "markdown",
      "id": "8de4b75c",
      "metadata": {
        "id": "8de4b75c"
      },
      "source": [
        "#### An employee’s total weekly pay equals the hourly wage multiplied by the total number of regular hours plus any overtime pay. Overtime pay equals the totalovertime hours multiplied by 1.5 times the hourly wage. Write a program that takes as inputs the hourly wage, total regular hours, and total overtime hours and displays an employee’s total weekly pay."
      ]
    },
    {
      "cell_type": "code",
      "execution_count": null,
      "id": "6c966f77",
      "metadata": {
        "id": "6c966f77",
        "outputId": "03a4451f-a2e9-4128-e161-0e36e0564345"
      },
      "outputs": [
        {
          "name": "stdout",
          "output_type": "stream",
          "text": [
            "Enter hourly wage: 8\n",
            "Enter total number of regular hours: 20\n",
            "Enter overtime hours: 8\n",
            "256.0\n"
          ]
        }
      ],
      "source": [
        "Wage = float(input(\"Enter hourly wage: \"))#determing Wage variable that inputs float value\n",
        "\n",
        "Hour = float(input(\"Enter total number of regular hours: \")) #determing hour variable that inputs float value\n",
        "\n",
        "Hrs = float(input(\"Enter overtime hours: \"))#determing overtime hours variable that inputs float value\n",
        "\n",
        "weeklyPay = (Wage*Hour) + (1.5*Wage*Hrs)#determing a weeklypay variable that calculates the values\n",
        "\n",
        "print (weeklyPay)#determing a print method that prints weeklyPay value"
      ]
    },
    {
      "cell_type": "markdown",
      "id": "362cf4c1",
      "metadata": {
        "id": "362cf4c1"
      },
      "source": [
        "#### A standard science experiment is to drop a ball and see how high it bounces. Once the “bounciness” of the ball has been determined, the ratio gives a bounciness index. For example, if a ball dropped from a height of 10 feet bounces 6 feet high, the index is 0.6 and the total distance traveled by the ball is 16 feet after one bounce. If the ball were to continue bouncing, the distance after two bounces would be 10 ft + 6 ft + 6 ft + 3.6 ft = 25.6 ft. Note that distance traveled for each successive bounce is the distance to the floor plus 0.6 of that distance as the ball comes back up. Write a program that lets the user enter the initial height of the ball and the number of times the ball is allowed to continue bouncing. Output should be the total distance traveled by the ball."
      ]
    },
    {
      "cell_type": "code",
      "execution_count": 15,
      "id": "dcb781e7",
      "metadata": {
        "id": "dcb781e7",
        "colab": {
          "base_uri": "https://localhost:8080/"
        },
        "outputId": "02cafd12-56fc-456d-b0f4-079d1d39ca31"
      },
      "outputs": [
        {
          "output_type": "stream",
          "name": "stdout",
          "text": [
            "Enter the height from which the ball is dropped: 10\n",
            "Enter the bounciness index of the ball: 0.6\n",
            "Enter the number of times the ball is allowed to continue bouncing: 2\n",
            "Total distance traveled is: 25.6 units.\n"
          ]
        }
      ],
      "source": [
        "height = int(input(\"Enter the height from which the ball is dropped: \"))\n",
        "bounceIndex = float(input(\"Enter the bounciness index of the ball: \"))\n",
        "NoOfBounces = float(input(\"Enter the number of times the ball is allowed to continue bouncing: \"))\n",
        "\n",
        "distance = 0\n",
        "\n",
        "while NoOfBounces > 0:\n",
        "    distance = distance + height\n",
        "    height = height * bounceIndex\n",
        "    distance = distance + height\n",
        "    NoOfBounces-= 1\n",
        "\n",
        "print(\"Total distance traveled is:\",distance,\"units.\")"
      ]
    },
    {
      "cell_type": "markdown",
      "id": "e2876101",
      "metadata": {
        "id": "e2876101"
      },
      "source": [
        "#### The German mathematician Gottfried Leibniz developed the following method to approximate the value of π: π/4 = 1 – 1/3 + 1/5 – 1/7 + … Write a program that allows the user to specify the number of iterations used in this approximation and displays the resulting value."
      ]
    },
    {
      "cell_type": "code",
      "execution_count": 14,
      "id": "6c2bd282",
      "metadata": {
        "colab": {
          "base_uri": "https://localhost:8080/"
        },
        "id": "6c2bd282",
        "outputId": "28eb34aa-e7db-4827-815a-81d2e2fa7170"
      },
      "outputs": [
        {
          "output_type": "stream",
          "name": "stdout",
          "text": [
            "Enter the number of Iterations: 9\n",
            "The approximation of PI is 3.2523659347188767\n"
          ]
        }
      ],
      "source": [
        "Iterations = int(input(\"Enter the number of Iterations: \"))\n",
        "ans = 0\n",
        "d = 1\n",
        "pos = True\n",
        "for f in range(Iterations):\n",
        "    if pos:\n",
        "        ans += 1 / d\n",
        "        pos = False\n",
        "    else:\n",
        "        ans -= 1 / d\n",
        "        pos = True\n",
        "    d += 2\n",
        "final = 4 * ans\n",
        "print(\"The approximation of PI is \" + str(final))"
      ]
    },
    {
      "cell_type": "markdown",
      "id": "28f56567",
      "metadata": {
        "id": "28f56567"
      },
      "source": [
        "#### The TidBit Computer Store has a credit plan for computer purchases. There is a 10% down payment and an annual interest rate of 12%. Monthly payments are 5% of the listed purchase price minus the down payment. Write a program that takes the purchase price as input. The program should display a table, with appropriate headers, of a payment schedule for the lifetime of the loan. Each row of the table should contain the following items:  n The month number (beginning with 1)  n The current total balance owed n The interest owed for that month n The amount of principal owed for that month n The payment for that month n The balance remaining after payment. The amount of interest for a month is equal to balance * rate / 12. The amount of principal for a month is equal to the monthly payment minus the interest owed."
      ]
    },
    {
      "cell_type": "code",
      "execution_count": 13,
      "id": "6702d51b",
      "metadata": {
        "colab": {
          "base_uri": "https://localhost:8080/"
        },
        "id": "6702d51b",
        "outputId": "f10d8167-2eca-41b0-ccbe-f2b36085cf05"
      },
      "outputs": [
        {
          "output_type": "stream",
          "name": "stdout",
          "text": [
            "Please enter price: 9\n",
            "| num | total | interest | principal | month | remain\n",
            "|     1 | 8.181000 | 0.081000 | 8.100000 | 0.405000 | 7.776000\n",
            "|     2 | 7.853760 | 0.077760 | 7.776000 | 0.405000 | 7.448760\n",
            "|     3 | 7.523248 | 0.074488 | 7.448760 | 0.405000 | 7.118248\n",
            "|     4 | 7.189430 | 0.071182 | 7.118248 | 0.405000 | 6.784430\n",
            "|     5 | 6.852274 | 0.067844 | 6.784430 | 0.405000 | 6.447274\n",
            "|     6 | 6.511747 | 0.064473 | 6.447274 | 0.405000 | 6.106747\n",
            "|     7 | 6.167815 | 0.061067 | 6.106747 | 0.405000 | 5.762815\n",
            "|     8 | 5.820443 | 0.057628 | 5.762815 | 0.405000 | 5.415443\n",
            "|     9 | 5.469597 | 0.054154 | 5.415443 | 0.405000 | 5.064597\n",
            "|    10 | 5.115243 | 0.050646 | 5.064597 | 0.405000 | 4.710243\n",
            "|    11 | 4.757346 | 0.047102 | 4.710243 | 0.405000 | 4.352346\n",
            "|    12 | 4.395869 | 0.043523 | 4.352346 | 0.405000 | 3.990869\n",
            "|    13 | 4.030778 | 0.039909 | 3.990869 | 0.405000 | 3.625778\n",
            "|    14 | 3.662035 | 0.036258 | 3.625778 | 0.405000 | 3.257035\n",
            "|    15 | 3.289606 | 0.032570 | 3.257035 | 0.405000 | 2.884606\n",
            "|    16 | 2.913452 | 0.028846 | 2.884606 | 0.405000 | 2.508452\n",
            "|    17 | 2.533536 | 0.025085 | 2.508452 | 0.405000 | 2.128536\n",
            "|    18 | 2.149822 | 0.021285 | 2.128536 | 0.405000 | 1.744822\n",
            "|    19 | 1.762270 | 0.017448 | 1.744822 | 0.405000 | 1.357270\n",
            "|    20 | 1.370843 | 0.013573 | 1.357270 | 0.405000 | 0.965843\n",
            "|    21 | 0.975501 | 0.009658 | 0.965843 | 0.405000 | 0.570501\n",
            "|    22 | 0.576206 | 0.005705 | 0.570501 | 0.405000 | 0.171206\n",
            "|    23 | 0.172918 | 0.001712 | 0.171206 | 0.172918 | 0.000000\n"
          ]
        }
      ],
      "source": [
        "listprice = float(input('Please enter price: '))\n",
        "downpayment = 0.1* listprice\n",
        "principal = listprice - downpayment\n",
        "monthlyPayment = (listprice - downpayment) * 0.05\n",
        "interestRate = 0.12\n",
        "num = 1\n",
        "print('| num | total | interest | principal | month | remain')\n",
        "isEnded = False\n",
        "while not isEnded:\n",
        "    monthlyInterest = (principal * interestRate)/12\n",
        "    currentTotal = principal + monthlyInterest\n",
        "    \n",
        "    if currentTotal < monthlyPayment:\n",
        "        monthlyPayment = currentTotal\n",
        "        isEnded = True\n",
        "        \n",
        "    remainingBalance = currentTotal - monthlyPayment\n",
        "    \n",
        "    print('| {0:5d} | {1:5f} | {2:5f} | {3:5f} | {4:5f} | {5:5f}'.format(num, currentTotal, monthlyInterest, principal, monthlyPayment, remainingBalance))\n",
        "\n",
        "    num+=1\n",
        "    principal = remainingBalance\n",
        "\n",
        "    \n"
      ]
    },
    {
      "cell_type": "markdown",
      "id": "0338d5df",
      "metadata": {
        "id": "0338d5df"
      },
      "source": [
        "# The Payroll Department keeps a list of employee information for each pay period in a text file. The format of each line of the file is <last name> <hourly wage> <hours worked> \n",
        "Write a program that inputs a filename from the user and prints a report to the terminal of the wages paid to the employees for the given period. The report should be in tabular format with the appropriate header. Each line should contain an employee’s name, the hours worked, and the wages paid for that period."
      ]
    },
    {
      "cell_type": "code",
      "execution_count": 1,
      "id": "a08cf77a",
      "metadata": {
        "colab": {
          "base_uri": "https://localhost:8080/"
        },
        "id": "a08cf77a",
        "outputId": "d2aa4168-7ee2-4303-ced5-7387ae60b839"
      },
      "outputs": [
        {
          "output_type": "stream",
          "name": "stdout",
          "text": [
            "Enter input filename: test.txt\n",
            "Name          Hours Total Pay\n",
            "nalini                7      49.00\n",
            "ayesha                8      64.00\n",
            "inthi                 9      81.00\n",
            "shyam                10     100.00\n"
          ]
        }
      ],
      "source": [
        "file_name = input('Enter input filename: ')#defining a variable file_name that inputs file value\n",
        "\n",
        "try:#defining try block that uses thr open method to open file\n",
        "  file = open(file_name, 'r')#defining file variable that opens file\n",
        "except:#defining exception block when file not found\n",
        "  print('Error opening file ' , file_name)#print message\n",
        "  exit()#calling exit method to close program\n",
        "    \n",
        "print('{:<10s} {:>8s} {:>8s}'.format('Name', 'Hours', 'Total Pay'))#using print method to print headers\n",
        "\n",
        "for i in file.readlines():#defining loop that holds file value and calculate the value\n",
        "  name, hour, wages = i.split()#defining variable that holds the value of file\n",
        "  hour = int(hour)#holiding hour value\n",
        "  wages = float(wages)#holiding wages value\n",
        "  total = hour * wages#defining variable total variable that calculates the total value\n",
        "  print('{:<12s} {:>10d} {:>10.2f}'.format(name, hour, total))#print calculated value with  message\n",
        "\n",
        "file.close()#close file\n"
      ]
    },
    {
      "cell_type": "markdown",
      "id": "5ce7f8f4",
      "metadata": {
        "id": "5ce7f8f4"
      },
      "source": [
        "#### Statisticians would like to have a set of functions to compute the median and mode of a list of numbers. The median is the number that would appear at the midpoint of a list if it were sorted. The mode is the number that appears most frequently in the list. Define these functions in a module named stats.py. Also include a function named mean, which computes the average of a set of numbers. Each function expects a list of numbers as an argument and returns a single number."
      ]
    },
    {
      "cell_type": "code",
      "execution_count": 16,
      "id": "f12fa018",
      "metadata": {
        "id": "f12fa018",
        "colab": {
          "base_uri": "https://localhost:8080/"
        },
        "outputId": "8d2315ea-9a96-47c7-80d6-86ac90cef70b"
      },
      "outputs": [
        {
          "output_type": "stream",
          "name": "stdout",
          "text": [
            "Mode:  27\n",
            "Median:  9\n",
            "Mean:  21.857142857142858\n"
          ]
        }
      ],
      "source": [
        "import statistics\n",
        "mylist =  [27, 7, 1, 9, 12, 8, 89]\n",
        "print(\"Mode: \",statistics.mode(mylist))\n",
        "print(\"Median: \",statistics.median(mylist))\n",
        "print(\"Mean: \",statistics.mean(mylist))"
      ]
    },
    {
      "cell_type": "code",
      "execution_count": null,
      "id": "51630122",
      "metadata": {
        "id": "51630122"
      },
      "outputs": [],
      "source": []
    }
  ],
  "metadata": {
    "kernelspec": {
      "display_name": "Python 3 (ipykernel)",
      "language": "python",
      "name": "python3"
    },
    "language_info": {
      "codemirror_mode": {
        "name": "ipython",
        "version": 3
      },
      "file_extension": ".py",
      "mimetype": "text/x-python",
      "name": "python",
      "nbconvert_exporter": "python",
      "pygments_lexer": "ipython3",
      "version": "3.9.12"
    },
    "colab": {
      "provenance": []
    }
  },
  "nbformat": 4,
  "nbformat_minor": 5
}